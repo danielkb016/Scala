{
 "cells": [
  {
   "cell_type": "markdown",
   "source": [
    "# 2.1.1 Functions"
   ],
   "metadata": {}
  },
  {
   "cell_type": "markdown",
   "source": [
    "This is a small introduction to functions from the point of view of functional programming _and_ software engineering. It ends with a discussion about the basic way in which functions are represented in an object-oriented programming language like Scala. \n",
    "\n",
    "### References\n",
    "\n",
    "_[Optional]_ __[Why Functional Programming Matters](https://www.cs.kent.ac.uk/people/staff/dat/miranda/whyfp90.pdf)__ John Hughes. This is a classic paper that motivates the need for functional programming by appealing to software enginerring principles such as modularity. It's written using the Miranda programming language, and it's more an academic paper that undergraduate material. Nevertheless, its reading is highly recommeded. Give it a try if you find some time!\n",
    "\n",
    "__[Scala book (online)](https://docs.scala-lang.org/overviews/scala-book/introduction.html)__.\n",
    "\n",
    "- [Pure functions](https://docs.scala-lang.org/overviews/scala-book/pure-functions.html)"
   ],
   "metadata": {}
  },
  {
   "cell_type": "markdown",
   "source": [
    "## What are (pure) functions?"
   ],
   "metadata": {}
  },
  {
   "cell_type": "markdown",
   "source": [
    "Functions are computational devices that transform input _values_ into output _values_, and do nothing _else_."
   ],
   "metadata": {}
  },
  {
   "cell_type": "code",
   "execution_count": 12,
   "source": [
    "// `add one` function\r\n",
    "\r\n"
   ],
   "outputs": [],
   "metadata": {}
  },
  {
   "cell_type": "markdown",
   "source": [
    "If we run this function, the only thing that happens is the computation of a new value:"
   ],
   "metadata": {}
  },
  {
   "cell_type": "code",
   "execution_count": null,
   "source": [],
   "outputs": [],
   "metadata": {}
  },
  {
   "cell_type": "markdown",
   "source": [
    "Functions that do something else, besides returning values, are called _impure_ functions. Functional programming deals only with _pure_, or mathematical, functions."
   ],
   "metadata": {}
  },
  {
   "cell_type": "code",
   "execution_count": 12,
   "source": [
    "// An impure function\r\n",
    "/*\r\n",
    "def impureAdd(input: Int): Int = {\r\n",
    "    input + 1\r\n",
    "}\r\n",
    "*/"
   ],
   "outputs": [],
   "metadata": {}
  },
  {
   "cell_type": "markdown",
   "source": [
    "If we run this function, we will see an _effect_ in the console (besides the pure computation of `input + 1`): "
   ],
   "metadata": {}
  },
  {
   "cell_type": "code",
   "execution_count": null,
   "source": [],
   "outputs": [],
   "metadata": {}
  },
  {
   "cell_type": "markdown",
   "source": [
    "There are many kinds of effects: writing to the console, reading from the keyworkd, reading from a socket, calling a web service, executing a query over the database, etc. Clearly, we need effects if we want our programs to do something useful, so pure functions alone are not enough. We will talk about this later on."
   ],
   "metadata": {}
  },
  {
   "cell_type": "markdown",
   "source": [
    "\n",
    "\n",
    "## Functions as modularity devices"
   ],
   "metadata": {}
  },
  {
   "cell_type": "markdown",
   "source": [
    "Why are functions so important in programming? Because they help us to _modularize_ our code. For instance, let's consider the following programs, which access the following data structure of key-value pairs (we will talk about this structure in detail later on):"
   ],
   "metadata": {}
  },
  {
   "cell_type": "code",
   "execution_count": 13,
   "source": [
    "val config: Map[String, String] = \r\n",
    "    Map(\"URL\" -> \"http://hablapps.com\",\r\n",
    "        \"PORT\" -> \"8080\")"
   ],
   "outputs": [
    {
     "output_type": "execute_result",
     "data": {
      "text/plain": [
       "\u001b[36mconfig\u001b[39m: \u001b[32mMap\u001b[39m[\u001b[32mString\u001b[39m, \u001b[32mString\u001b[39m] = \u001b[33mMap\u001b[39m(\n",
       "  \u001b[32m\"URL\"\u001b[39m -> \u001b[32m\"http://hablapps.com\"\u001b[39m,\n",
       "  \u001b[32m\"PORT\"\u001b[39m -> \u001b[32m\"8080\"\u001b[39m\n",
       ")"
      ]
     },
     "metadata": {},
     "execution_count": 13
    }
   ],
   "metadata": {}
  },
  {
   "cell_type": "markdown",
   "source": [
    "Our first program access the configuration data for the value of the \"URL\" key. If it's not found, then the default value \"default.url\" is returned (similarly, we will discuss the `match` keyword further in the course)."
   ],
   "metadata": {}
  },
  {
   "cell_type": "code",
   "execution_count": 14,
   "source": [
    "// Program 1\r\n",
    "val url: String = config.get(\"URL\") match {\r\n",
    "  case Some(u) => u\r\n",
    "  case None => \"default.url\"\r\n",
    "}"
   ],
   "outputs": [
    {
     "output_type": "execute_result",
     "data": {
      "text/plain": [
       "\u001b[36murl\u001b[39m: \u001b[32mString\u001b[39m = \u001b[32m\"http://hablapps.com\"\u001b[39m"
      ]
     },
     "metadata": {},
     "execution_count": 14
    }
   ],
   "metadata": {}
  },
  {
   "cell_type": "markdown",
   "source": [
    "Our second program accesses the configuration data for the value of the \"PORT\" key. If it's not found, then the default value \"8080\" is returned."
   ],
   "metadata": {}
  },
  {
   "cell_type": "code",
   "execution_count": 15,
   "source": [
    "// Program 2\r\n",
    "val port: String = config.get(\"PORT\") match {\r\n",
    "  case Some(p) => p\r\n",
    "  case None => \"8080\"\r\n",
    "}"
   ],
   "outputs": [
    {
     "output_type": "execute_result",
     "data": {
      "text/plain": [
       "\u001b[36mport\u001b[39m: \u001b[32mString\u001b[39m = \u001b[32m\"8080\"\u001b[39m"
      ]
     },
     "metadata": {},
     "execution_count": 15
    }
   ],
   "metadata": {}
  },
  {
   "cell_type": "markdown",
   "source": [
    "These two programs do _almost_ the same. The only differences lie in the particular keys and default values the programs refer to, but, otherwise, they do the same thing. However, this _common factor_ is not reflected in the code. Indeed, we may get one program from the other by copy-pasting, a clear signal of [code-smell](https://en.wikipedia.org/wiki/Code_smell)."
   ],
   "metadata": {}
  },
  {
   "cell_type": "markdown",
   "source": [
    "These programs are _monolythic_, in the sense that they are not made by composing large enough modules. In this case, the common logic of the program and the values it operates on are intermingled in the same code. "
   ],
   "metadata": {}
  },
  {
   "cell_type": "markdown",
   "source": [
    "How can we abstract away the differences and package the common logic in a single module? With functions:"
   ],
   "metadata": {}
  },
  {
   "cell_type": "code",
   "execution_count": 15,
   "source": [
    "/*\r\n",
    "val port: String = config.get(\"PORT\") match {\r\n",
    "  case Some(p) => p\r\n",
    "  case None => \"8080\"\r\n",
    "}\r\n",
    "*/"
   ],
   "outputs": [],
   "metadata": {}
  },
  {
   "cell_type": "markdown",
   "source": [
    "This is an abstract module which we can combine with other modules to get back the very same functionality:"
   ],
   "metadata": {}
  },
  {
   "cell_type": "code",
   "execution_count": 15,
   "source": [
    "// Program 1\r\n",
    "// val url: String = ???"
   ],
   "outputs": [],
   "metadata": {}
  },
  {
   "cell_type": "markdown",
   "source": [
    "In this case, we combine the module `getKeyFrom` with the modules (data values and variables, in particular) `config`, `\"URL\"` and `\"default.url\"`. The composition method is just simple function application."
   ],
   "metadata": {}
  },
  {
   "cell_type": "markdown",
   "source": [
    "Which are the advantages of using functions? As in the general case, having a more modular solution enables _reuse_, particularly of those modules which are abstract or parameterised. For instance, we can benefit from this level of reuse by re-implementing the `url` program in the following way:"
   ],
   "metadata": {}
  },
  {
   "cell_type": "code",
   "execution_count": 15,
   "source": [
    "// Program 2\r\n",
    "// val port: String = ???"
   ],
   "outputs": [],
   "metadata": {}
  },
  {
   "cell_type": "markdown",
   "source": [
    "## Functions as methods"
   ],
   "metadata": {}
  },
  {
   "cell_type": "markdown",
   "source": [
    "In an object-oriented language, functions are implemented through _methods_, i.e. using the `def` keyword. Note that these methods are invariably part of an `object`, `class` or `trait` declaration. Typically, pure functions are declared as part of objects. For instance, we may declare a set of arithmetic functions as follows: "
   ],
   "metadata": {}
  },
  {
   "cell_type": "code",
   "execution_count": 16,
   "source": [
    "import scala.math.{pow, Pi}\r\n",
    "\r\n",
    "object Areas{\r\n",
    "    \r\n",
    "    def circle(radius: Double): Double = \r\n",
    "        ???\r\n",
    "    \r\n",
    "    def rectangle(width: Double, height: Double): Double = \r\n",
    "        ???\r\n",
    "}"
   ],
   "outputs": [
    {
     "output_type": "execute_result",
     "data": {
      "text/plain": [
       "\u001b[32mimport \u001b[39m\u001b[36mscala.math.{pow, Pi}\n",
       "\n",
       "\u001b[39m\r\n",
       "defined \u001b[32mobject\u001b[39m \u001b[36mAreas\u001b[39m"
      ]
     },
     "metadata": {},
     "execution_count": 16
    }
   ],
   "metadata": {}
  },
  {
   "cell_type": "markdown",
   "source": [
    "In notebooks and the Scala REPL, `def` declarations appear to be independent from any object or class, but they are not:"
   ],
   "metadata": {}
  },
  {
   "cell_type": "code",
   "execution_count": 17,
   "source": [
    "def foo(i: Int): Int = i\r\n",
    "// show errors: \"missing argument list for method foo in class Helper\"\r\n"
   ],
   "outputs": [
    {
     "output_type": "execute_result",
     "data": {
      "text/plain": [
       "defined \u001b[32mfunction\u001b[39m \u001b[36mfoo\u001b[39m"
      ]
     },
     "metadata": {},
     "execution_count": 17
    }
   ],
   "metadata": {}
  },
  {
   "cell_type": "markdown",
   "source": [
    "When we study higher-order functions, we will see that functions in Scala can also be represented as _objects_, i.e. not only as methods. However, that representation also builds essentially upon methods."
   ],
   "metadata": {}
  },
  {
   "cell_type": "markdown",
   "source": [
    "## Functions as values"
   ],
   "metadata": {}
  },
  {
   "cell_type": "markdown",
   "source": [
    "Functions can also be represented as _values_, i.e. as objects. This allows us to implement functions that receive other functions as arguments, or return functions as results. This special functions are called _higher-order functions_ (HOF), and they feature as a great modularity device. We will mainly discuss this feature of HOFs in PF-3."
   ],
   "metadata": {}
  },
  {
   "cell_type": "markdown",
   "source": [
    "In order to represent functions as values, we need first to make extremely clear the difference between variables, values and types. For instance:\n"
   ],
   "metadata": {}
  },
  {
   "cell_type": "code",
   "execution_count": 17,
   "source": [
    "// three variables\r\n"
   ],
   "outputs": [],
   "metadata": {}
  },
  {
   "cell_type": "markdown",
   "source": [
    "In these definitions, we found three variables: `i`, `s` and `b`. These variables are assigned three __values__: `3`, `\"hi\"` and `true`. The __types__ of these values are, respectively: `Int`, `String` and `Boolean`. Now, let's consider these other variables that we intend to represent values equivalent to the following function-methods:"
   ],
   "metadata": {}
  },
  {
   "cell_type": "code",
   "execution_count": 18,
   "source": [
    "// Function-methods\r\n",
    "\r\n",
    "def addOneM(number: Int): Int = \r\n",
    "    number + 1\r\n",
    "\r\n",
    "def substractOneM(number: Int): Int = \r\n",
    "    number - 1 \r\n",
    "\r\n",
    "// Function-values\r\n",
    "\r\n"
   ],
   "outputs": [
    {
     "output_type": "execute_result",
     "data": {
      "text/plain": [
       "defined \u001b[32mfunction\u001b[39m \u001b[36maddOneM\u001b[39m\r\n",
       "defined \u001b[32mfunction\u001b[39m \u001b[36msubstractOneM\u001b[39m"
      ]
     },
     "metadata": {},
     "execution_count": 18
    }
   ],
   "metadata": {}
  },
  {
   "cell_type": "markdown",
   "source": [
    "Here, we also have variables, values and types. The two variables are named `addOneV` and `substractOneV`. They are assigned the _function values_ `(a: Int) => a+1` and `(a: Int) => a - 1`. The type of these values is the same _function type_ `Int => Int`. A function-value is also known as a _lambda expression_. Note that a function value is made of two parts: the input arguments and the function body: `(...input...) => body`. The input arguments declare new variables, each of them of a particular type, that will be assigned to certain values when they are passed to the function (upon invocation). The function body has to be an expression of the type specified as output by the function type."
   ],
   "metadata": {}
  },
  {
   "cell_type": "markdown",
   "source": [
    "Function-values are equivalent to function-methods in the sense that they behave exactly in the same way, i.e. they allow us to compute values from other values that we pass as input:"
   ],
   "metadata": {}
  },
  {
   "cell_type": "code",
   "execution_count": 18,
   "source": [
    "// function-method invocations\r\n",
    "// addOneV(5)\r\n",
    "// addOneM(5)\r\n",
    "// equivalent invocations with function-values\r\n"
   ],
   "outputs": [],
   "metadata": {}
  },
  {
   "cell_type": "markdown",
   "source": [
    "But then, which are the advantages of function values? Basically, they allow us to implement HOFs. For instance, let's say that we want to implement a HOF that receives an integer-to-integer function, such as `addOneM`and `substractOneM`, and calls this function over a given number. We may want to write something like this:"
   ],
   "metadata": {}
  },
  {
   "cell_type": "code",
   "execution_count": 18,
   "source": [
    "// def call(def int2int(n: Int): Int, number: Int): Int =\r\n",
    "//   ..."
   ],
   "outputs": [],
   "metadata": {}
  },
  {
   "cell_type": "markdown",
   "source": [
    "where the first argument `int2int` attempts to represent any function that receives an integer and returns another integer. "
   ],
   "metadata": {}
  },
  {
   "cell_type": "markdown",
   "source": [
    "But this code is not legal in Scala, because arguments to functions need to be values, not methods. That's why we need function-values!"
   ],
   "metadata": {}
  },
  {
   "cell_type": "code",
   "execution_count": 18,
   "source": [
    "// def call(def int2int(n: Int): Int, number: Int): Int =\r\n",
    "//   ..."
   ],
   "outputs": [],
   "metadata": {}
  },
  {
   "cell_type": "markdown",
   "source": [
    "which we can use as follows:"
   ],
   "metadata": {}
  },
  {
   "cell_type": "code",
   "execution_count": 18,
   "source": [
    "// invoke call\r\n"
   ],
   "outputs": [],
   "metadata": {}
  },
  {
   "cell_type": "markdown",
   "source": [
    "And we can even pass function-methods that are converted on the fly to function-values!"
   ],
   "metadata": {}
  },
  {
   "cell_type": "code",
   "execution_count": 18,
   "source": [
    "// invoke call with function-methods\r\n"
   ],
   "outputs": [],
   "metadata": {}
  },
  {
   "cell_type": "markdown",
   "source": [
    "This conversion is the so-called _eta-expansion_."
   ],
   "metadata": {}
  },
  {
   "cell_type": "markdown",
   "source": [
    "## Syntactic sugar for function-values"
   ],
   "metadata": {}
  },
  {
   "cell_type": "markdown",
   "source": [
    "We discuss now some syntactic facilities offered by Scala when writing lambda expressions. "
   ],
   "metadata": {}
  },
  {
   "cell_type": "markdown",
   "source": [
    "First, we can omit the types of input arguments and let Scala figure out them:"
   ],
   "metadata": {}
  },
  {
   "cell_type": "code",
   "execution_count": 19,
   "source": [
    "val addOneV: Int => Int = \r\n",
    "    (a: Int) => a + 1\r\n",
    "\r\n",
    "val substractOneV: Int => Int = \r\n",
    "    (a: Int) => a - 1"
   ],
   "outputs": [
    {
     "output_type": "execute_result",
     "data": {
      "text/plain": [
       "\u001b[36maddOneV\u001b[39m: \u001b[32mInt\u001b[39m => \u001b[32mInt\u001b[39m = ammonite.$sess.cmd18$Helper$$Lambda$2922/0x0000000100d57040@f94c23e\r\n",
       "\u001b[36msubstractOneV\u001b[39m: \u001b[32mInt\u001b[39m => \u001b[32mInt\u001b[39m = ammonite.$sess.cmd18$Helper$$Lambda$2923/0x0000000100d56840@6cc11571"
      ]
     },
     "metadata": {},
     "execution_count": 19
    }
   ],
   "metadata": {}
  },
  {
   "cell_type": "markdown",
   "source": [
    "Second, we can get extra level of conciseness using so-called _underscore_ syntax:"
   ],
   "metadata": {}
  },
  {
   "cell_type": "code",
   "execution_count": 20,
   "source": [
    "val addOne: Int => Int = \r\n",
    "    (a: Int) => a + 1"
   ],
   "outputs": [
    {
     "output_type": "execute_result",
     "data": {
      "text/plain": [
       "\u001b[36maddOne\u001b[39m: \u001b[32mInt\u001b[39m => \u001b[32mInt\u001b[39m = ammonite.$sess.cmd19$Helper$$Lambda$2930/0x0000000100d52040@9d0cd54"
      ]
     },
     "metadata": {},
     "execution_count": 20
    }
   ],
   "metadata": {}
  },
  {
   "cell_type": "code",
   "execution_count": 20,
   "source": [
    "// call((a: Int) => a + 1, 5)\r\n",
    "// call((a: Int) => a - 1, 3)"
   ],
   "outputs": [],
   "metadata": {}
  },
  {
   "cell_type": "markdown",
   "source": [
    "## Currying"
   ],
   "metadata": {}
  },
  {
   "cell_type": "markdown",
   "source": [
    "What about functions that receive more than one argument? We would like to implement the function-value equivalent of this function-method: "
   ],
   "metadata": {}
  },
  {
   "cell_type": "code",
   "execution_count": 20,
   "source": [
    "// function-method sum\r\n"
   ],
   "outputs": [],
   "metadata": {}
  },
  {
   "cell_type": "markdown",
   "source": [
    "We do that as follows:"
   ],
   "metadata": {}
  },
  {
   "cell_type": "code",
   "execution_count": 20,
   "source": [
    "// function-value sum\r\n",
    "\r\n"
   ],
   "outputs": [],
   "metadata": {}
  },
  {
   "cell_type": "markdown",
   "source": [
    "or, exploiting type inference:"
   ],
   "metadata": {}
  },
  {
   "cell_type": "code",
   "execution_count": 20,
   "source": [
    "// function-value sum, with type-inference & underscore syntax"
   ],
   "outputs": [],
   "metadata": {}
  },
  {
   "cell_type": "markdown",
   "source": [
    "However, function types of two, three, ... arguments are not extrictly necessary, and sometimes we can get along with functions of one argument. But, how can we create a function of two arguments with functions of one argument alone? The trick is the following:"
   ],
   "metadata": {}
  },
  {
   "cell_type": "code",
   "execution_count": 21,
   "source": [
    "// function-value sum, currified\r\n",
    "val addV: Int => (Int => Int) =\r\n",
    "    (x: Int) => \r\n",
    "        ((y: Int) => x+y : Int): (Int => Int)\r\n"
   ],
   "outputs": [
    {
     "output_type": "execute_result",
     "data": {
      "text/plain": [
       "\u001b[36maddV\u001b[39m: \u001b[32mInt\u001b[39m => \u001b[32mInt\u001b[39m => \u001b[32mInt\u001b[39m = ammonite.$sess.cmd20$Helper$$Lambda$2934/0x0000000100d60840@333bc69e"
      ]
     },
     "metadata": {},
     "execution_count": 21
    }
   ],
   "metadata": {}
  },
  {
   "cell_type": "markdown",
   "source": [
    "Note that brackets in `Int => (Int => Int)` are used for clarity, but are not needed. Basically, we created a function of one argument that returns another function of one argument. So, the expression: "
   ],
   "metadata": {}
  },
  {
   "cell_type": "code",
   "execution_count": 22,
   "source": [
    "// partial application\r\n",
    "addV(2)(6)"
   ],
   "outputs": [
    {
     "output_type": "execute_result",
     "data": {
      "text/plain": [
       "\u001b[36mres21\u001b[39m: \u001b[32mInt\u001b[39m = \u001b[32m8\u001b[39m"
      ]
     },
     "metadata": {},
     "execution_count": 22
    }
   ],
   "metadata": {}
  },
  {
   "cell_type": "markdown",
   "source": [
    "returns a function that can be applied again:"
   ],
   "metadata": {}
  },
  {
   "cell_type": "code",
   "execution_count": 22,
   "source": [
    "// total application\r\n"
   ],
   "outputs": [],
   "metadata": {}
  },
  {
   "cell_type": "markdown",
   "source": [
    "We can apply this strategy to functions of any number of arguments. This is called _currying_ and _currified functions_. The analog in function-methods is [multiple-parameter lists](https://docs.scala-lang.org/tour/multiple-parameter-lists.html):"
   ],
   "metadata": {}
  },
  {
   "cell_type": "code",
   "execution_count": 22,
   "source": [
    "// function-method, with multi-parameter list\r\n",
    "def add(x: Int, y: Int):Int = x+y\r\n",
    "def addC(x: Int, y: Int):Int = x+y\r\n",
    "val addV: (Int, Int) => Int = _+_\r\n",
    "val addVC: Int => Int\r\n"
   ],
   "outputs": [
    {
     "output_type": "stream",
     "name": "stderr",
     "text": [
      "cmd22.sc:164: class Helper needs to be abstract, since value addVC is not defined\n",
      "final class Helper extends java.io.Serializable{\n",
      "            ^Compilation Failed"
     ]
    },
    {
     "output_type": "error",
     "ename": "",
     "evalue": "",
     "traceback": [
      "Compilation Failed"
     ]
    }
   ],
   "metadata": {}
  },
  {
   "cell_type": "markdown",
   "source": [
    "## Functions compose"
   ],
   "metadata": {}
  },
  {
   "cell_type": "markdown",
   "source": [
    "We can create new functions by composing other functions whose signatures match. This is great from a modularity perspective. For instance, the following function is implemented in a non-modular way:"
   ],
   "metadata": {}
  },
  {
   "cell_type": "code",
   "execution_count": null,
   "source": [
    "// isEvenLength\r\n",
    "def isEvenLength(s: String): Boolean = \r\n",
    "    s.length % 2 == 0\r\n"
   ],
   "outputs": [
    {
     "output_type": "execute_result",
     "data": {
      "text/plain": [
       "defined \u001b[32mfunction\u001b[39m \u001b[36misEvenLength\u001b[39m"
      ]
     },
     "metadata": {},
     "execution_count": 4
    }
   ],
   "metadata": {}
  },
  {
   "cell_type": "markdown",
   "source": [
    "This function is somehow the combination of two more basic functions `length` and `isEven`:"
   ],
   "metadata": {}
  },
  {
   "cell_type": "code",
   "execution_count": null,
   "source": [
    "// length \r\n",
    "def length(s: String):Int = s.length\r\n",
    "val lengthV: String => Int = _.length"
   ],
   "outputs": [
    {
     "output_type": "execute_result",
     "data": {
      "text/plain": [
       "defined \u001b[32mfunction\u001b[39m \u001b[36mlength\u001b[39m\r\n",
       "\u001b[36mlengthV\u001b[39m: \u001b[32mString\u001b[39m => \u001b[32mInt\u001b[39m = ammonite.$sess.cmd8$Helper$$Lambda$2590/0x0000000100c6b040@76369964"
      ]
     },
     "metadata": {},
     "execution_count": 9
    }
   ],
   "metadata": {}
  },
  {
   "cell_type": "code",
   "execution_count": 22,
   "source": [
    "// isEven\r\n",
    "def isEven(i: Int):Boolean = i % 2 == 0\r\n",
    "val isEvenV: Int => Boolean"
   ],
   "outputs": [
    {
     "output_type": "stream",
     "name": "stderr",
     "text": [
      "cmd22.sc:164: class Helper needs to be abstract, since value isEvenV is not defined\n",
      "final class Helper extends java.io.Serializable{\n",
      "            ^Compilation Failed"
     ]
    },
    {
     "output_type": "error",
     "ename": "",
     "evalue": "",
     "traceback": [
      "Compilation Failed"
     ]
    }
   ],
   "metadata": {}
  },
  {
   "cell_type": "markdown",
   "source": [
    "but this is not reflected in the current implementation. How can we redefine the function `isEvenLength` using the functions `length` and `isEven`? We can use a HOF which helps us to compose functions:"
   ],
   "metadata": {}
  },
  {
   "cell_type": "code",
   "execution_count": null,
   "source": [
    "// compose HOF\r\n",
    "def isEvenLength(s: String) :Boolean = \r\n",
    "    isEven(length(s))\r\n",
    "\r\n",
    "val isEvenLengthV: String => Boolean = (s:String) => isEven(length(s))\r\n"
   ],
   "outputs": [
    {
     "output_type": "execute_result",
     "data": {
      "text/plain": [
       "defined \u001b[32mfunction\u001b[39m \u001b[36misEvenLength\u001b[39m\r\n",
       "\u001b[36misEvenLengthV\u001b[39m: \u001b[32mString\u001b[39m => \u001b[32mBoolean\u001b[39m = ammonite.$sess.cmd9$Helper$$Lambda$2599/0x0000000100c78840@6ebc2ae0"
      ]
     },
     "metadata": {},
     "execution_count": 10
    }
   ],
   "metadata": {}
  },
  {
   "cell_type": "code",
   "execution_count": null,
   "source": [
    "def compose(f: String => Int,\r\n",
    "                g: Int => Boolean):String => Boolean = (s:String => g(f(s)): Int) :Boolean) \r\n",
    "            "
   ],
   "outputs": [
    {
     "output_type": "execute_result",
     "data": {
      "text/plain": [
       "defined \u001b[32mfunction\u001b[39m \u001b[36mcompose\u001b[39m"
      ]
     },
     "metadata": {},
     "execution_count": 12
    }
   ],
   "metadata": {}
  },
  {
   "cell_type": "markdown",
   "source": [
    "Then, we can redefine `isEvenLength` in a modular way from the `length` and `isEven` building blocks:"
   ],
   "metadata": {}
  },
  {
   "cell_type": "code",
   "execution_count": null,
   "source": [
    " val isEvenLength: String => Boolean = compose(lengthV, isEvenV)"
   ],
   "outputs": [
    {
     "output_type": "stream",
     "name": "stderr",
     "text": [
      "cmd12.sc:1: not found: value isEvenV\n",
      "val isEvenLength: String => Boolean = compose(lengthV, isEvenV)\n",
      "                                                       ^Compilation Failed"
     ]
    },
    {
     "output_type": "error",
     "ename": "",
     "evalue": "",
     "traceback": [
      "Compilation Failed"
     ]
    }
   ],
   "metadata": {}
  },
  {
   "cell_type": "markdown",
   "source": [
    "The HOF `compose` is actually defined for function types of one argument: "
   ],
   "metadata": {}
  },
  {
   "cell_type": "code",
   "execution_count": null,
   "source": [
    "// val isEvenLength: String => Boolean = ???"
   ],
   "outputs": [],
   "metadata": {}
  },
  {
   "cell_type": "markdown",
   "source": [
    "or using infix notation:"
   ],
   "metadata": {}
  },
  {
   "cell_type": "code",
   "execution_count": null,
   "source": [
    "// val isEvenLength: String => Boolean = ???"
   ],
   "outputs": [],
   "metadata": {}
  },
  {
   "cell_type": "markdown",
   "source": [
    "Note that a similar function to `compose`, called `andThen`, is also available in the standard library: "
   ],
   "metadata": {}
  },
  {
   "cell_type": "code",
   "execution_count": null,
   "source": [
    "// val isEvenLength: String => Boolean = ???"
   ],
   "outputs": [],
   "metadata": {}
  },
  {
   "cell_type": "markdown",
   "source": [
    "The last implementation of the `compose` HOF was _monomorphic_, in the sense that it only works with specific types. We can obtain a more flexible implementation using generics, also known as _parametric polymorphism_:"
   ],
   "metadata": {}
  },
  {
   "cell_type": "code",
   "execution_count": null,
   "source": [
    "def compose(f2: Int => Boolean, f1: String => Int): String => Boolean = \r\n",
    "    (a: String) => f2(f1(a))"
   ],
   "outputs": [
    {
     "output_type": "execute_result",
     "data": {
      "text/plain": [
       "defined \u001b[32mfunction\u001b[39m \u001b[36mcompose\u001b[39m"
      ]
     },
     "metadata": {},
     "execution_count": 9
    }
   ],
   "metadata": {}
  },
  {
   "cell_type": "markdown",
   "source": [
    "We can also give a currified version of this function as follows:"
   ],
   "metadata": {}
  },
  {
   "cell_type": "code",
   "execution_count": null,
   "source": [
    "// compose currified\r\n"
   ],
   "outputs": [],
   "metadata": {}
  },
  {
   "cell_type": "markdown",
   "source": [
    "Last, there is a function which behaves as the identity element with respect to the operation `compose`, i.e. no matter which other function we choose to compose with the [`identity`](https://www.scala-lang.org/api/current/scala/Predef$.html) function, the result will be that function:\n",
    "1. `identity[B] compose f == f` for all `f: A => B`\n",
    "2. `f compose identity[A] == f` for all `f: A => B`"
   ],
   "metadata": {}
  },
  {
   "cell_type": "code",
   "execution_count": null,
   "source": [
    "// function-method identity\r\n"
   ],
   "outputs": [],
   "metadata": {}
  },
  {
   "cell_type": "markdown",
   "source": [
    "or using lambda expressions:"
   ],
   "metadata": {}
  },
  {
   "cell_type": "code",
   "execution_count": null,
   "source": [
    "// quasi function-value identity\r\n"
   ],
   "outputs": [],
   "metadata": {}
  },
  {
   "cell_type": "markdown",
   "source": [
    "## How are functions represented as values"
   ],
   "metadata": {}
  },
  {
   "cell_type": "markdown",
   "source": [
    "Now, we just want to focus on how are functions actually represented as values in a OO language like Scala. This representation builds essentially upon methods, in particular, _reified_ methods. For instance, let's consider the following functions:"
   ],
   "metadata": {}
  },
  {
   "cell_type": "code",
   "execution_count": null,
   "source": [
    "def addOneM(number: Int): Int = \r\n",
    "    number + 1\r\n",
    "\r\n",
    "def substractOneM(number: Int): Int = \r\n",
    "    number - 1 "
   ],
   "outputs": [
    {
     "output_type": "execute_result",
     "data": {
      "text/plain": [
       "defined \u001b[32mfunction\u001b[39m \u001b[36maddOneM\u001b[39m\n",
       "defined \u001b[32mfunction\u001b[39m \u001b[36msubstractOneM\u001b[39m"
      ]
     },
     "metadata": {},
     "execution_count": 10
    }
   ],
   "metadata": {}
  },
  {
   "cell_type": "markdown",
   "source": [
    "In order to create a type of functions that receive an integer and return another one, we can create a new class whose only method is the function that we want to actually implement:"
   ],
   "metadata": {}
  },
  {
   "cell_type": "code",
   "execution_count": null,
   "source": [
    "// FunctionInt2Int class \r\n"
   ],
   "outputs": [],
   "metadata": {}
  },
  {
   "cell_type": "markdown",
   "source": [
    "Now, we can implement the `call` HOF as follows: "
   ],
   "metadata": {}
  },
  {
   "cell_type": "code",
   "execution_count": null,
   "source": [
    "// call HOF\r\n"
   ],
   "outputs": [],
   "metadata": {}
  },
  {
   "cell_type": "markdown",
   "source": [
    "In order to use this HOF with the `addOneM` and `substractOneM` functions, we must create reified versions for them: "
   ],
   "metadata": {}
  },
  {
   "cell_type": "code",
   "execution_count": null,
   "source": [
    "// addOneV and SubstractV function-values\r\n"
   ],
   "outputs": [],
   "metadata": {}
  },
  {
   "cell_type": "markdown",
   "source": [
    "We call the `addOneV` and `substractOneV` function-values, i.e. functions represented as values. Now, we can use the `call` HOF as follows:"
   ],
   "metadata": {}
  },
  {
   "cell_type": "code",
   "execution_count": null,
   "source": [
    "// invoke call HOF"
   ],
   "outputs": [],
   "metadata": {}
  },
  {
   "cell_type": "markdown",
   "source": [
    "Actually, function types such as `Int => Int` and `Boolean => String` are syntactic sugar for the types `Function1[Int, Int]` and `Function1[Boolean, String]`, where [`Function1`](https://www.scala-lang.org/api/current/scala/Function1.html) is a generalization of the type `FunctionInt2Int` that we wrote above. We have also [`Function2`](https://www.scala-lang.org/api/current/scala/Function2.html), [`Function3`](https://www.scala-lang.org/api/current/scala/Function3.html), etc., that are roughly implemented as follows:"
   ],
   "metadata": {}
  },
  {
   "cell_type": "code",
   "execution_count": 23,
   "source": [
    "object Std{\r\n",
    "    trait Function1[A, B]{\r\n",
    "        def apply(a: A): B\r\n",
    "    }\r\n",
    "\r\n",
    "    trait Function2[A, B, C]{\r\n",
    "        def apply(a: A, b: B): C\r\n",
    "    }\r\n",
    "\r\n",
    "    // up to Function22\r\n",
    "}\r\n"
   ],
   "outputs": [
    {
     "output_type": "execute_result",
     "data": {
      "text/plain": [
       "defined \u001b[32mobject\u001b[39m \u001b[36mStd\u001b[39m"
      ]
     },
     "metadata": {},
     "execution_count": 23
    }
   ],
   "metadata": {}
  },
  {
   "cell_type": "markdown",
   "source": [
    "Using these standard classes, we can create the `addOneV` function-value in a similar way than before: "
   ],
   "metadata": {}
  },
  {
   "cell_type": "code",
   "execution_count": null,
   "source": [
    "// addOneV as a Function1 instance\r\n"
   ],
   "outputs": [],
   "metadata": {}
  },
  {
   "cell_type": "markdown",
   "source": [
    "and invoke functions as follows:\n"
   ],
   "metadata": {}
  },
  {
   "cell_type": "code",
   "execution_count": null,
   "source": [
    "// invoke addOneV\r\n"
   ],
   "outputs": [],
   "metadata": {}
  },
  {
   "cell_type": "markdown",
   "source": [
    "However, as we saw throughout this notebook, we can also invoke the function without explicitly naming the `apply` method, i.e. "
   ],
   "metadata": {}
  },
  {
   "cell_type": "code",
   "execution_count": null,
   "source": [
    "// omit apply!\r\n"
   ],
   "outputs": [],
   "metadata": {}
  },
  {
   "cell_type": "markdown",
   "source": [
    "This is just another syntactic nicety of Scala. In sum, in an object-oriented language like Scala, function-values are ultimately methods in disguise."
   ],
   "metadata": {}
  }
 ],
 "metadata": {
  "kernelspec": {
   "display_name": "Scala",
   "language": "scala",
   "name": "scala"
  },
  "language_info": {
   "mimetype": "text/x-scala",
   "name": "scala",
   "codemirror_mode": "text/x-scala",
   "version": "2.12.8",
   "nbconvert_exporter": "script",
   "file_extension": ".scala"
  }
 },
 "nbformat": 4,
 "nbformat_minor": 2
}